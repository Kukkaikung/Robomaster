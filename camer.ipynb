{
 "cells": [
  {
   "cell_type": "code",
   "execution_count": 38,
   "metadata": {},
   "outputs": [],
   "source": [
    "import time\n",
    "from robomaster import robot\n",
    "from robomaster import camera\n",
    "import cv2\n",
    "import numpy as np"
   ]
  },
  {
   "cell_type": "code",
   "execution_count": 16,
   "metadata": {},
   "outputs": [
    {
     "name": "stderr",
     "output_type": "stream",
     "text": [
      "2024-08-28 20:44:38,658 ERROR conn.py:271 SdkConnection: RECV TimeOut!\n",
      "2024-08-28 20:44:38,659 ERROR robot.py:1353 Robot: Connection Failed, Please Check Hareware Connections!!! conn_type rndis, host ('192.168.42.3', 10148), target ('192.168.42.2', 20020).\n",
      "2024-08-28 20:44:38,659 ERROR client.py:70 Client: __init__, create Connection, exception: module 'robomaster.config' has no attribute 'DEFAULT_CONN_PROTO'\n",
      "2024-08-28 20:44:38,659 ERROR client.py:153 Client: send_sync_msg, client recv_task is not running.\n",
      "2024-08-28 20:44:38,659 ERROR client.py:153 Client: send_sync_msg, client recv_task is not running.\n",
      "2024-08-28 20:44:38,659 ERROR client.py:153 Client: send_sync_msg, client recv_task is not running.\n",
      "2024-08-28 20:44:38,659 ERROR client.py:153 Client: send_sync_msg, client recv_task is not running.\n",
      "2024-08-28 20:44:38,659 ERROR client.py:153 Client: send_sync_msg, client recv_task is not running.\n"
     ]
    },
    {
     "name": "stdout",
     "output_type": "stream",
     "text": [
      "Robot: Can not connect to robot, check connection please.\n"
     ]
    },
    {
     "ename": "TypeError",
     "evalue": "exceptions must derive from BaseException",
     "output_type": "error",
     "traceback": [
      "\u001b[1;31m---------------------------------------------------------------------------\u001b[0m",
      "\u001b[1;31mAttributeError\u001b[0m                            Traceback (most recent call last)",
      "File \u001b[1;32mc:\\Users\\ASUS\\Desktop\\Robot\\virtualenvname\\lib\\site-packages\\robomaster\\client.py:93\u001b[0m, in \u001b[0;36mClient.remote_addr\u001b[1;34m(self)\u001b[0m\n\u001b[0;32m     92\u001b[0m \u001b[38;5;28;01mtry\u001b[39;00m:\n\u001b[1;32m---> 93\u001b[0m     \u001b[38;5;28;01mreturn\u001b[39;00m \u001b[38;5;28;43mself\u001b[39;49m\u001b[38;5;241;43m.\u001b[39;49m\u001b[43m_conn\u001b[49m\u001b[38;5;241;43m.\u001b[39;49m\u001b[43mtarget_addr\u001b[49m\n\u001b[0;32m     94\u001b[0m \u001b[38;5;28;01mexcept\u001b[39;00m \u001b[38;5;167;01mException\u001b[39;00m:\n",
      "\u001b[1;31mAttributeError\u001b[0m: 'NoneType' object has no attribute 'target_addr'",
      "\nDuring handling of the above exception, another exception occurred:\n",
      "\u001b[1;31mTypeError\u001b[0m                                 Traceback (most recent call last)",
      "Cell \u001b[1;32mIn[16], line 3\u001b[0m\n\u001b[0;32m      1\u001b[0m \u001b[38;5;28;01mif\u001b[39;00m \u001b[38;5;18m__name__\u001b[39m \u001b[38;5;241m==\u001b[39m \u001b[38;5;124m'\u001b[39m\u001b[38;5;124m__main__\u001b[39m\u001b[38;5;124m'\u001b[39m:\n\u001b[0;32m      2\u001b[0m     ep_robot \u001b[38;5;241m=\u001b[39m robot\u001b[38;5;241m.\u001b[39mRobot()\n\u001b[1;32m----> 3\u001b[0m     \u001b[43mep_robot\u001b[49m\u001b[38;5;241;43m.\u001b[39;49m\u001b[43minitialize\u001b[49m\u001b[43m(\u001b[49m\u001b[43mconn_type\u001b[49m\u001b[38;5;241;43m=\u001b[39;49m\u001b[38;5;124;43m\"\u001b[39;49m\u001b[38;5;124;43mrndis\u001b[39;49m\u001b[38;5;124;43m\"\u001b[39;49m\u001b[43m)\u001b[49m\n\u001b[0;32m      5\u001b[0m     ep_camera \u001b[38;5;241m=\u001b[39m ep_robot\u001b[38;5;241m.\u001b[39mcamera\n\u001b[0;32m      7\u001b[0m     \u001b[38;5;66;03m# 显示十秒图传\u001b[39;00m\n",
      "File \u001b[1;32mc:\\Users\\ASUS\\Desktop\\Robot\\virtualenvname\\lib\\site-packages\\robomaster\\robot.py:1327\u001b[0m, in \u001b[0;36mRobot.initialize\u001b[1;34m(self, conn_type, proto_type, sn)\u001b[0m\n\u001b[0;32m   1324\u001b[0m \u001b[38;5;28mself\u001b[39m\u001b[38;5;241m.\u001b[39m_enable_sdk(\u001b[38;5;241m1\u001b[39m)\n\u001b[0;32m   1325\u001b[0m \u001b[38;5;28mself\u001b[39m\u001b[38;5;241m.\u001b[39mreset()\n\u001b[1;32m-> 1327\u001b[0m \u001b[38;5;28mself\u001b[39m\u001b[38;5;241m.\u001b[39m_ftp\u001b[38;5;241m.\u001b[39mconnect(\u001b[38;5;28;43mself\u001b[39;49m\u001b[38;5;241;43m.\u001b[39;49m\u001b[43mip\u001b[49m)\n\u001b[0;32m   1329\u001b[0m \u001b[38;5;66;03m# start heart beat timer\u001b[39;00m\n\u001b[0;32m   1330\u001b[0m \u001b[38;5;28mself\u001b[39m\u001b[38;5;241m.\u001b[39m_running \u001b[38;5;241m=\u001b[39m \u001b[38;5;28;01mTrue\u001b[39;00m\n",
      "File \u001b[1;32mc:\\Users\\ASUS\\Desktop\\Robot\\virtualenvname\\lib\\site-packages\\robomaster\\robot.py:1157\u001b[0m, in \u001b[0;36mRobot.ip\u001b[1;34m(self)\u001b[0m\n\u001b[0;32m   1155\u001b[0m \u001b[38;5;129m@property\u001b[39m\n\u001b[0;32m   1156\u001b[0m \u001b[38;5;28;01mdef\u001b[39;00m \u001b[38;5;21mip\u001b[39m(\u001b[38;5;28mself\u001b[39m):\n\u001b[1;32m-> 1157\u001b[0m     \u001b[38;5;28;01mreturn\u001b[39;00m \u001b[38;5;28;43mself\u001b[39;49m\u001b[38;5;241;43m.\u001b[39;49m\u001b[43mclient\u001b[49m\u001b[38;5;241;43m.\u001b[39;49m\u001b[43mremote_addr\u001b[49m[\u001b[38;5;241m0\u001b[39m]\n",
      "File \u001b[1;32mc:\\Users\\ASUS\\Desktop\\Robot\\virtualenvname\\lib\\site-packages\\robomaster\\client.py:95\u001b[0m, in \u001b[0;36mClient.remote_addr\u001b[1;34m(self)\u001b[0m\n\u001b[0;32m     93\u001b[0m     \u001b[38;5;28;01mreturn\u001b[39;00m \u001b[38;5;28mself\u001b[39m\u001b[38;5;241m.\u001b[39m_conn\u001b[38;5;241m.\u001b[39mtarget_addr\n\u001b[0;32m     94\u001b[0m \u001b[38;5;28;01mexcept\u001b[39;00m \u001b[38;5;167;01mException\u001b[39;00m:\n\u001b[1;32m---> 95\u001b[0m     \u001b[38;5;28;01mraise\u001b[39;00m \u001b[38;5;28mprint\u001b[39m(\u001b[38;5;124m'\u001b[39m\u001b[38;5;124mRobot: Can not connect to robot, check connection please.\u001b[39m\u001b[38;5;124m'\u001b[39m)\n",
      "\u001b[1;31mTypeError\u001b[0m: exceptions must derive from BaseException"
     ]
    }
   ],
   "source": [
    "if __name__ == '__main__':\n",
    "    ep_robot = robot.Robot()\n",
    "    ep_robot.initialize(conn_type=\"rndis\")\n",
    "\n",
    "    ep_camera = ep_robot.camera\n",
    "\n",
    "    # 显示十秒图传\n",
    "    ep_camera.start_video_stream(display=False, resolution=camera.STREAM_720P)\n",
    "    time.sleep(10)\n",
    "    img = ep_camera.read_cv2_image(strategy=\"newest\")\n",
    "    cv2.imshow(\"Robot\", img)\n",
    "    cv2.waitKey()\n",
    "    time.sleep(1)\n",
    "    filename = f\"Test_camer.jpg\"\n",
    "    cv2.imwrite(filename, img)\n",
    "    ep_camera.stop_video_stream()\n",
    "    \n",
    "    #print(f\"Image saved as {filename}\")\n",
    "    ep_robot.close()"
   ]
  },
  {
   "cell_type": "code",
   "execution_count": 5,
   "metadata": {},
   "outputs": [
    {
     "name": "stdout",
     "output_type": "stream",
     "text": [
      "Image size: (720, 1280, 3)\n"
     ]
    }
   ],
   "source": [
    "img =cv2.imread('Test_camer.jpg')\n",
    "print('Image size:', img.shape)"
   ]
  },
  {
   "cell_type": "code",
   "execution_count": 53,
   "metadata": {},
   "outputs": [],
   "source": [
    "# แปลงภาพจาก RGB เป็น HSL\n",
    "hsl_image = cv2.cvtColor(img, cv2.COLOR_BGR2HLS)\n",
    "# แยกช่องสี L จากภาพ HSL\n",
    "L_channel = hsl_image[:, :, 1]\n",
    "\n",
    "# แสดงภาพในช่องสี L\n",
    "cv2.imshow('L-channel Image', L_channel)\n",
    "cv2.waitKey(0)\n",
    "cv2.destroyAllWindows()"
   ]
  },
  {
   "cell_type": "code",
   "execution_count": 71,
   "metadata": {},
   "outputs": [],
   "source": [
    "# แปลงภาพจาก RGB เป็น HSL\n",
    "hsl_image = cv2.cvtColor(img, cv2.COLOR_BGR2HLS)\n",
    "\n",
    "# แยกช่องสี L จากภาพ HSL\n",
    "L_channel = hsl_image[:, :, 1]\n",
    "\n",
    "# คำนวณฮิสโตแกรมของช่องสี L\n",
    "histogram = cv2.calcHist([L_channel], [0], None, [256], [0, 256])\n",
    "\n",
    "# ปกติค่าในฮิสโตแกรมอาจมีค่ามากเกินกว่าที่จะวาดลงในภาพ จึงควรปรับสเกล\n",
    "histogram = cv2.normalize(histogram, histogram, 0, 255, cv2.NORM_MINMAX)\n",
    "\n",
    "# สร้างภาพสำหรับแสดงฮิสโตแกรม\n",
    "hist_img = np.zeros((300, 256), dtype=np.uint8)\n",
    "\n",
    "# วาดกราฟฮิสโตแกรมลงบนภาพ\n",
    "for x in range(256):\n",
    "    cv2.line(hist_img, (x, 300), (x, 300 - int(histogram[x])), (255, 255, 255))\n",
    "\n",
    "# แสดงฮิสโตแกรม\n",
    "cv2.imshow('Histogram of L-channel', hist_img)\n",
    "cv2.waitKey(0)\n",
    "cv2.destroyAllWindows()\n"
   ]
  },
  {
   "cell_type": "code",
   "execution_count": 76,
   "metadata": {},
   "outputs": [],
   "source": [
    "import cv2\n",
    "import numpy as np\n",
    "\n",
    "# แปลงภาพจาก RGB เป็น HSL\n",
    "hsl_image = cv2.cvtColor(img, cv2.COLOR_BGR2HLS)\n",
    "\n",
    "# แยกช่องสี L จากภาพ HSL\n",
    "L_channel = hsl_image[:, :, 1]\n",
    "\n",
    "# คำนวณฮิสโตแกรมของช่องสี L\n",
    "histogram = cv2.calcHist([L_channel], [0], None, [256], [0, 256])\n",
    "\n",
    "# ปกติค่าในฮิสโตแกรมอาจมีค่ามากเกินกว่าที่จะวาดลงในภาพ จึงควรปรับสเกล\n",
    "histogram = cv2.normalize(histogram, histogram, 0, 255, cv2.NORM_MINMAX)\n",
    "\n",
    "# สร้างภาพสำหรับแสดงฮิสโตแกรม พร้อมพื้นที่สำหรับแกน\n",
    "hist_img = np.zeros((350, 306), dtype=np.uint8)\n",
    "\n",
    "# วาดกราฟฮิสโตแกรมลงบนภาพ\n",
    "for x in range(256):\n",
    "    cv2.line(hist_img, (x + 50, 300), (x + 50, 300 - int(histogram[x])), (255, 255, 255))\n",
    "\n",
    "# วาดแกน x และ y\n",
    "cv2.line(hist_img, (50, 300), (306, 300), (255, 255, 255), 2)  # แกน x\n",
    "cv2.line(hist_img, (50, 300), (50, 50), (255, 255, 255), 2)    # แกน y\n",
    "\n",
    "# ใส่ตัวเลขบนแกน x (0 - 255) และ y (0 - 255)\n",
    "font = cv2.FONT_HERSHEY_SIMPLEX\n",
    "for i in range(5):\n",
    "    x_label = i * 64  # ตำแหน่งของ x ในช่วง [0, 255]\n",
    "    cv2.putText(hist_img, f'{x_label}', (50 + i * 64 - 10, 320), font, 0.5, (255, 255, 255), 1)\n",
    "    y_label = 256 - i * 64  # ตำแหน่งของ y ในช่วง [0, 255]\n",
    "    cv2.putText(hist_img, f'{y_label}', (10, 300 - i * 64 + 5), font, 0.5, (255, 255, 255), 1)\n",
    "\n",
    "# แสดงฮิสโตแกรมพร้อมแกน\n",
    "cv2.imshow('Histogram of L-channel with Axes', hist_img)\n",
    "cv2.waitKey(0)\n",
    "cv2.destroyAllWindows()\n"
   ]
  },
  {
   "cell_type": "code",
   "execution_count": 65,
   "metadata": {},
   "outputs": [],
   "source": [
    "# ปรับขนาดค่าพิกเซลในช่องสี L ให้อยู่ในช่วง [0, 1]\n",
    "L_channel_normalized = L_channel / 255\n",
    "# ปรับขนาดค่าพิกเซลในช่องสี L ให้อยู่ในช่วง [-1, 1]\n",
    "L_channel_rescaled = 2 * L_channel_normalized - 1"
   ]
  },
  {
   "cell_type": "code",
   "execution_count": 70,
   "metadata": {},
   "outputs": [
    {
     "name": "stdout",
     "output_type": "stream",
     "text": [
      "{-0.7333333333333334, -0.5215686274509803, -0.4980392156862745, 0.9921568627450981, 1.0, -0.8588235294117648, -0.8666666666666667, -0.8745098039215686, -0.8823529411764706, -0.8901960784313725, 0.9843137254901961, -0.9450980392156862, -0.9294117647058824, -0.9843137254901961, -0.7490196078431373, -0.7647058823529411, -0.6235294117647059, -0.607843137254902, -0.6392156862745098, -0.5686274509803921, -0.584313725490196, -0.5529411764705883, -0.5137254901960784, -0.4274509803921569, -0.388235294117647, -0.37254901960784315, -0.3176470588235294, -0.3019607843137255, -0.24705882352941178, -0.26274509803921564, -0.17647058823529416, -0.19215686274509802, -0.13725490196078427, -0.1215686274509804, -0.06666666666666665, -0.050980392156862786, -0.8352941176470589, -0.0117647058823529, -0.8431372549019608, -0.7176470588235294, -0.7254901960784313, -0.6, 0.0039215686274509665, -0.8509803921568627, 0.019607843137254832, -0.592156862745098, -0.9686274509803922, 0.09019607843137245, 0.05882352941176472, 0.07450980392156858, 0.04313725490196085, -0.8980392156862745, -0.9137254901960784, 0.12941176470588234, 0.11372549019607847, 0.0980392156862746, 0.1450980392156862, 0.19999999999999996, 0.21568627450980382, 0.16862745098039222, 0.1843137254901961, 0.22352941176470598, 0.2705882352941176, 0.23921568627450984, 0.2549019607843137, 0.2941176470588236, 0.3254901960784313, 0.3411764705882352, 0.30980392156862746, 0.3647058823529412, 0.3803921568627451, 0.39607843137254894, 0.34901960784313735, 0.46666666666666656, 0.4509803921568627, 0.41960784313725497, 0.43529411764705883, 0.5058823529411764, 0.4745098039215687, 0.4901960784313726, 0.5215686274509803, -0.48235294117647054, -0.4666666666666667, 0.5921568627450979, 0.5607843137254902, 0.5450980392156863, 0.5764705882352941, -0.4117647058823529, -0.39607843137254906, 0.615686274509804, 0.6000000000000001, 0.6470588235294117, 0.6313725490196078, -0.35686274509803917, -0.3411764705882353, 0.6862745098039216, 0.7176470588235293, 0.6705882352941177, 0.7019607843137254, -0.28627450980392155, -0.2705882352941177, 0.7568627450980392, 0.7725490196078431, 0.7254901960784315, 0.7411764705882353, -0.21568627450980393, -0.2313725490196078, 0.8274509803921568, 0.7960784313725491, 0.8117647058823529, 0.8431372549019607, -0.16078431372549018, -0.14509803921568631, 0.8509803921568628, 0.8666666666666667, 0.8980392156862744, 0.8823529411764706, -0.09019607843137256, -0.10588235294117643, 0.9215686274509804, 0.9372549019607843, 0.968627450980392, 0.9529411764705882, -0.03529411764705881, -0.019607843137254943, -0.7019607843137254, -0.6862745098039216, -0.6941176470588235, -0.6784313725490196, -0.6705882352941177, -0.7098039215686274, -0.44313725490196076, -0.7960784313725491, -0.803921568627451, -0.8196078431372549, 0.9764705882352942, -0.9215686274509804, -0.9372549019607843, -0.9529411764705882, -0.9921568627450981, -0.8117647058823529, -0.8274509803921568, -0.7411764705882353, -0.7568627450980392, -0.6470588235294117, -0.6313725490196078, -0.615686274509804, -0.5607843137254902, -0.5764705882352941, -0.5450980392156863, -0.5058823529411764, -0.4901960784313726, -0.4509803921568627, -0.43529411764705883, -0.3647058823529412, -0.3803921568627451, -0.3254901960784313, -0.30980392156862746, -0.2549019607843137, -0.23921568627450984, -0.1843137254901961, -0.19999999999999996, -0.12941176470588234, -0.11372549019607847, -0.07450980392156858, -0.05882352941176472, -0.7725490196078432, -0.0039215686274509665, -0.7803921568627451, -0.788235294117647, -0.6627450980392157, -0.6549019607843137, 0.0117647058823529, 0.027450980392156765, -0.5294117647058824, -0.5372549019607843, -0.9607843137254902, -0.9764705882352941, 0.050980392156862786, 0.03529411764705892, 0.06666666666666665, 0.08235294117647052, -0.9058823529411765, 0.1215686274509804, 0.13725490196078427, 0.15294117647058814, 0.10588235294117654, 0.17647058823529416, 0.2078431372549019, 0.19215686274509802, 0.1607843137254903, 0.24705882352941178, 0.2313725490196079, 0.2784313725490195, 0.26274509803921564, 0.3176470588235294, 0.3019607843137255, 0.33333333333333326, 0.28627450980392166, 0.3568627450980393, 0.388235294117647, 0.4039215686274509, 0.37254901960784315, 0.45882352941176463, 0.44313725490196076, 0.4274509803921569, 0.41176470588235303, 0.48235294117647065, 0.5294117647058822, 0.4980392156862745, 0.5137254901960784, -0.4745098039215686, -0.45882352941176474, 0.584313725490196, 0.5686274509803921, 0.5372549019607844, 0.5529411764705883, -0.403921568627451, -0.41960784313725485, 0.6549019607843136, 0.6235294117647059, 0.6392156862745098, 0.607843137254902, -0.027450980392156876, -0.34901960784313724, -0.33333333333333337, 0.6784313725490196, 0.7098039215686274, 0.6627450980392158, 0.6941176470588235, -0.2784313725490196, -0.2941176470588235, 0.7490196078431373, 0.7647058823529411, 0.780392156862745, 0.7333333333333334, -0.207843137254902, -0.22352941176470587, 0.8352941176470587, 0.7882352941176471, 0.8196078431372549, 0.803921568627451, -0.15294117647058825, -0.1686274509803921, 0.8901960784313725, 0.9058823529411764, 0.8745098039215686, 0.8588235294117648, -0.0980392156862745, -0.08235294117647063, 0.9137254901960785, 0.9294117647058824, 0.9607843137254901, 0.9450980392156862, -0.04313725490196074, -1.0} \n",
      " 256\n"
     ]
    }
   ],
   "source": [
    "v = set()\n",
    "for i in L_channel_rescaled:\n",
    "    v.update(set(i))\n",
    "print(v, \"\\n\",len(v))"
   ]
  },
  {
   "cell_type": "code",
   "execution_count": 72,
   "metadata": {},
   "outputs": [],
   "source": [
    "import cv2\n",
    "import numpy as np\n",
    "\n",
    "# แปลงภาพจาก RGB เป็น HSL\n",
    "hsl_image = cv2.cvtColor(img, cv2.COLOR_BGR2HLS)\n",
    "\n",
    "# แยกช่องสี L จากภาพ HSL\n",
    "L_channel = hsl_image[:, :, 1]\n",
    "\n",
    "# ปรับขนาดค่าพิกเซลในช่องสี L ให้อยู่ในช่วง [0, 1]\n",
    "L_channel_normalized = L_channel / 255.0\n",
    "\n",
    "# ปรับขนาดค่าพิกเซลในช่องสี L ให้อยู่ในช่วง [-1, 1]\n",
    "L_channel_rescaled = 2 * L_channel_normalized - 1\n",
    "\n",
    "# คำนวณฮิสโตแกรมของช่องสี L ที่ถูก rescale\n",
    "histogram = cv2.calcHist([L_channel_rescaled.astype(np.float32)], [0], None, [256], [-1, 1])\n",
    "\n",
    "# ปกติค่าในฮิสโตแกรมอาจมีค่ามากเกินกว่าที่จะวาดลงในภาพ จึงควรปรับสเกล\n",
    "histogram = cv2.normalize(histogram, histogram, 0, 255, cv2.NORM_MINMAX)\n",
    "\n",
    "# สร้างภาพสำหรับแสดงฮิสโตแกรม\n",
    "hist_img = np.zeros((300, 256), dtype=np.uint8)\n",
    "\n",
    "# วาดกราฟฮิสโตแกรมลงบนภาพ\n",
    "for x in range(256):\n",
    "    cv2.line(hist_img, (x, 300), (x, 300 - int(histogram[x])), (255, 255, 255))\n",
    "\n",
    "# แสดงฮิสโตแกรม\n",
    "cv2.imshow('Histogram of Rescaled L-channel', hist_img)\n",
    "cv2.waitKey(0)\n",
    "cv2.destroyAllWindows()"
   ]
  },
  {
   "cell_type": "code",
   "execution_count": 75,
   "metadata": {},
   "outputs": [],
   "source": [
    "import cv2\n",
    "import numpy as np\n",
    "\n",
    "# แปลงภาพจาก RGB เป็น HSL\n",
    "hsl_image = cv2.cvtColor(img, cv2.COLOR_BGR2HLS)\n",
    "\n",
    "# แยกช่องสี L จากภาพ HSL\n",
    "L_channel = hsl_image[:, :, 1]\n",
    "\n",
    "# ปรับขนาดค่าพิกเซลในช่องสี L ให้อยู่ในช่วง [0, 1]\n",
    "L_channel_normalized = L_channel / 255.0\n",
    "\n",
    "# ปรับขนาดค่าพิกเซลในช่องสี L ให้อยู่ในช่วง [-1, 1]\n",
    "L_channel_rescaled = 2 * L_channel_normalized - 1\n",
    "\n",
    "# คำนวณฮิสโตแกรมของช่องสี L ที่ถูก rescale\n",
    "histogram = cv2.calcHist([L_channel_rescaled.astype(np.float32)], [0], None, [256], [-1, 1])\n",
    "\n",
    "# ปกติค่าในฮิสโตแกรมอาจมีค่ามากเกินกว่าที่จะวาดลงในภาพ จึงควรปรับสเกล\n",
    "histogram = cv2.normalize(histogram, histogram, 0, 255, cv2.NORM_MINMAX)\n",
    "\n",
    "# สร้างภาพสำหรับแสดงฮิสโตแกรม พร้อมพื้นที่สำหรับแกน\n",
    "hist_img = np.zeros((350, 306), dtype=np.uint8)\n",
    "\n",
    "# วาดกราฟฮิสโตแกรมลงบนภาพ\n",
    "for x in range(256):\n",
    "    cv2.line(hist_img, (x + 50, 300), (x + 50, 300 - int(histogram[x])), (255, 255, 255))\n",
    "\n",
    "# วาดแกน x และ y\n",
    "cv2.line(hist_img, (50, 300), (306, 300), (255, 255, 255), 2)  # แกน x\n",
    "cv2.line(hist_img, (50, 300), (50, 50), (255, 255, 255), 2)    # แกน y\n",
    "\n",
    "# ใส่ตัวเลขบนแกน x และ y\n",
    "font = cv2.FONT_HERSHEY_SIMPLEX\n",
    "for i in range(5):\n",
    "    x_label = -1 + 0.5 * i  # ตำแหน่งของ x ในช่วง [-1, 1]\n",
    "    cv2.putText(hist_img, f'{x_label:.1f}', (50 + i * 64 - 10, 320), font, 0.5, (255, 255, 255), 1)\n",
    "    y_label = 256 - i * 64  # ตำแหน่งของ y ในช่วง [0, 255]\n",
    "    cv2.putText(hist_img, f'{y_label}', (10, 300 - i * 64 + 5), font, 0.5, (255, 255, 255), 1)\n",
    "\n",
    "# แสดงฮิสโตแกรมพร้อมแกน\n",
    "cv2.imshow('Histogram of Rescaled L-channel with Axes', hist_img)\n",
    "cv2.waitKey(0)\n",
    "cv2.destroyAllWindows()\n"
   ]
  },
  {
   "cell_type": "code",
   "execution_count": 67,
   "metadata": {},
   "outputs": [
    {
     "ename": "error",
     "evalue": "OpenCV(4.10.0) D:\\a\\opencv-python\\opencv-python\\opencv\\modules\\imgproc\\src\\histogram.cpp:1008: error: (-210:Unsupported format or combination of formats)  in function 'cv::calcHist'\n",
     "output_type": "error",
     "traceback": [
      "\u001b[1;31m---------------------------------------------------------------------------\u001b[0m",
      "\u001b[1;31merror\u001b[0m                                     Traceback (most recent call last)",
      "Cell \u001b[1;32mIn[67], line 9\u001b[0m\n\u001b[0;32m      5\u001b[0m L_channel_rescaled \u001b[38;5;241m=\u001b[39m \u001b[38;5;241m2\u001b[39m \u001b[38;5;241m*\u001b[39m L_channel_normalized \u001b[38;5;241m-\u001b[39m \u001b[38;5;241m1\u001b[39m\n\u001b[0;32m      7\u001b[0m \u001b[38;5;66;03m# ใช้ภาพที่ถูก rescale ในขั้นตอนถัดไป (ตัวอย่างการสร้างฮิสโตแกรมใหม่)\u001b[39;00m\n\u001b[0;32m      8\u001b[0m \u001b[38;5;66;03m# คำนวณฮิสโตแกรมของ L_channel_rescaled\u001b[39;00m\n\u001b[1;32m----> 9\u001b[0m histogram_rescaled \u001b[38;5;241m=\u001b[39m \u001b[43mcv2\u001b[49m\u001b[38;5;241;43m.\u001b[39;49m\u001b[43mcalcHist\u001b[49m\u001b[43m(\u001b[49m\u001b[43m[\u001b[49m\u001b[43mL_channel_rescaled\u001b[49m\u001b[43m]\u001b[49m\u001b[43m,\u001b[49m\u001b[43m \u001b[49m\u001b[43m[\u001b[49m\u001b[38;5;241;43m0\u001b[39;49m\u001b[43m]\u001b[49m\u001b[43m,\u001b[49m\u001b[43m \u001b[49m\u001b[38;5;28;43;01mNone\u001b[39;49;00m\u001b[43m,\u001b[49m\u001b[43m \u001b[49m\u001b[43m[\u001b[49m\u001b[38;5;241;43m256\u001b[39;49m\u001b[43m]\u001b[49m\u001b[43m,\u001b[49m\u001b[43m \u001b[49m\u001b[43m[\u001b[49m\u001b[38;5;241;43m0\u001b[39;49m\u001b[43m,\u001b[49m\u001b[43m \u001b[49m\u001b[38;5;241;43m256\u001b[39;49m\u001b[43m]\u001b[49m\u001b[43m)\u001b[49m\n\u001b[0;32m     11\u001b[0m \u001b[38;5;66;03m# ปกติค่าในฮิสโตแกรมอาจมีค่ามากเกินกว่าที่จะวาดลงในภาพ จึงควรปรับสเกล\u001b[39;00m\n\u001b[0;32m     12\u001b[0m histogram_rescaled \u001b[38;5;241m=\u001b[39m cv2\u001b[38;5;241m.\u001b[39mnormalize(histogram_rescaled, histogram_rescaled, \u001b[38;5;241m0\u001b[39m, \u001b[38;5;241m255\u001b[39m, cv2\u001b[38;5;241m.\u001b[39mNORM_MINMAX)\n",
      "\u001b[1;31merror\u001b[0m: OpenCV(4.10.0) D:\\a\\opencv-python\\opencv-python\\opencv\\modules\\imgproc\\src\\histogram.cpp:1008: error: (-210:Unsupported format or combination of formats)  in function 'cv::calcHist'\n"
     ]
    }
   ],
   "source": [
    "# ปรับขนาดค่าพิกเซลในช่องสี L ให้อยู่ในช่วง [0, 1]\n",
    "L_channel_normalized = L_channel / 255.0\n",
    "\n",
    "# ปรับขนาดค่าพิกเซลในช่องสี L ให้อยู่ในช่วง [-1, 1]\n",
    "L_channel_rescaled = 2 * L_channel_normalized - 1\n",
    "\n",
    "# ใช้ภาพที่ถูก rescale ในขั้นตอนถัดไป (ตัวอย่างการสร้างฮิสโตแกรมใหม่)\n",
    "# คำนวณฮิสโตแกรมของ L_channel_rescaled\n",
    "histogram_rescaled = cv2.calcHist([L_channel_rescaled], [0], None, [256], [0, 256])\n",
    "\n",
    "# ปกติค่าในฮิสโตแกรมอาจมีค่ามากเกินกว่าที่จะวาดลงในภาพ จึงควรปรับสเกล\n",
    "histogram_rescaled = cv2.normalize(histogram_rescaled, histogram_rescaled, 0, 255, cv2.NORM_MINMAX)\n",
    "\n",
    "# สร้างภาพสำหรับแสดงฮิสโตแกรม\n",
    "hist_img_rescaled = np.zeros((300, 256), dtype=np.uint8)\n",
    "\n",
    "# วาดกราฟฮิสโตแกรมลงบนภาพ\n",
    "for x in range(256):\n",
    "    cv2.line(hist_img_rescaled, (x, 300), (x, 300 - int(histogram_rescaled[x])), (255, 255, 255))\n",
    "\n",
    "# แสดงฮิสโตแกรมของ L-channel ที่ถูก rescale\n",
    "cv2.imshow('Histogram of Rescaled L-channel', hist_img_rescaled)\n",
    "cv2.waitKey(0)\n",
    "cv2.destroyAllWindows()\n"
   ]
  },
  {
   "cell_type": "code",
   "execution_count": 26,
   "metadata": {},
   "outputs": [],
   "source": [
    "# แปลงค่าพิกเซลกลับมาเป็นช่วง [0, 255] เพื่อใช้กับ cv2.calcHist\n",
    "L_channel_rescaled_255 = ((L_channel_rescaled + 1) * 127.5).astype(np.uint8)\n",
    "\n",
    "# คำนวณฮิสโตแกรมของช่องสี L ที่ถูกปรับขนาดแล้ว\n",
    "histogram = cv2.calcHist([L_channel_rescaled_255], [0], None, [256], [0, 256])\n",
    "\n",
    "# ปรับสเกลฮิสโตแกรมให้อยู่ในช่วงที่แสดงผลได้\n",
    "histogram = cv2.normalize(histogram, histogram, 0, 300, cv2.NORM_MINMAX)\n",
    "\n",
    "# สร้างภาพสำหรับแสดงฮิสโตแกรมที่มีสี\n",
    "hist_img = np.zeros((300, 256), dtype=np.uint8)\n",
    "\n",
    "# วาดกราฟฮิสโตแกรมด้วยสี\n",
    "for x in range(256):\n",
    "    cv2.line(hist_img, (x, 300), (x, 300 - int(histogram[x])), (255, 0, 0))\n",
    "\n",
    "# แสดงฮิสโตแกรมที่มีสี\n",
    "cv2.imshow('Histogram of Rescaled L-channel', hist_img)\n",
    "cv2.waitKey(0)\n",
    "cv2.destroyAllWindows()\n"
   ]
  },
  {
   "cell_type": "code",
   "execution_count": null,
   "metadata": {},
   "outputs": [],
   "source": []
  }
 ],
 "metadata": {
  "kernelspec": {
   "display_name": ".venv",
   "language": "python",
   "name": "python3"
  },
  "language_info": {
   "codemirror_mode": {
    "name": "ipython",
    "version": 3
   },
   "file_extension": ".py",
   "mimetype": "text/x-python",
   "name": "python",
   "nbconvert_exporter": "python",
   "pygments_lexer": "ipython3",
   "version": "3.8.10"
  }
 },
 "nbformat": 4,
 "nbformat_minor": 2
}
